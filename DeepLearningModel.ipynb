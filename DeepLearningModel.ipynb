{
 "cells": [
  {
   "cell_type": "markdown",
   "metadata": {},
   "source": [
    "## IQ Gateway Task\n",
    "### Saquib Sattar\n",
    "#### https://www.linkedin.com/in/saquib42/\n",
    "#### 28novsaquib@gmail.com\n",
    "#### Analysing the mood using classical Deep Learning Models\n",
    "\n",
    "This notebook looks into using various Python-based deep learning and data science libraries in an attempt to build a model capable of predicting whether the emotion is sad, happy, angry or fear from text data.\n",
    "\n",
    "We're going to take the following approach:\n",
    "1. Problem definition\n",
    "2. Data\n",
    "3. Features\n",
    "4. Evaluation\n",
    "5. Modelling\n",
    "\n",
    "## 1. Problem Definition\n",
    "\n",
    "> Given text data from twitter, can we predict whether the emotion is sad, happy, angry or fear?\n",
    "\n",
    "## 2. Data\n",
    "\n",
    "> The data came from the WASSA-2017 Shared Task on Emotion Intensity (EmoInt Repository)\n",
    "\n",
    "## 3. Features and Label\n",
    "\n",
    "> Features are the raw text, score and we have corresponding label\n",
    "\n",
    "## 4. Evaluation\n",
    "\n",
    "> We will be evaluating our model based on these four accuracy measures: precision, recall, f1-score, support\n",
    "\n",
    "## 5. Modelling\n",
    "\n",
    "> Bi-directional LSTM is used"
   ]
  },
  {
   "cell_type": "code",
   "execution_count": 1,
   "metadata": {
    "id": "Dnuo8NJAAv0X"
   },
   "outputs": [],
   "source": [
    "# importing all the important libraries\n",
    "import pandas as pd\n",
    "import numpy as np\n",
    "import nltk\n",
    "import re\n",
    "import tensorflow as tf\n",
    "from tensorflow.keras import regularizers\n",
    "from sklearn.feature_extraction.text import TfidfVectorizer\n",
    "from sklearn.feature_extraction.text import CountVectorizer\n",
    "from tensorflow.keras.preprocessing.sequence import pad_sequences\n",
    "from nltk.corpus import stopwords\n",
    "import matplotlib.pyplot as plt\n",
    "import string"
   ]
  },
  {
   "cell_type": "code",
   "execution_count": 2,
   "metadata": {
    "id": "9ocEPSFfBBYt"
   },
   "outputs": [],
   "source": [
    "Angry = pd.read_csv('Angry.txt', sep = '\\t',names=['id', 'Tweet', 'Label', 'Score'])\n",
    "Fear = pd.read_csv('Fear.txt', sep = '\\t',names=['id', 'Tweet', 'Label', 'Score'])\n",
    "Joy = pd.read_csv('Joy.txt', sep = '\\t',names=['id', 'Tweet', 'Label', 'Score'])\n",
    "Sad = pd.read_csv('Sad.txt', sep = '\\t',names=['id', 'Tweet', 'Label', 'Score'])"
   ]
  },
  {
   "cell_type": "markdown",
   "metadata": {},
   "source": [
    "### Combining all the text files"
   ]
  },
  {
   "cell_type": "code",
   "execution_count": 3,
   "metadata": {
    "colab": {
     "base_uri": "https://localhost:8080/",
     "height": 143
    },
    "id": "eCdD62wcBOk1",
    "outputId": "d0e79613-d457-4fc0-e4e5-406c11835982"
   },
   "outputs": [
    {
     "data": {
      "text/html": [
       "<div>\n",
       "<style scoped>\n",
       "    .dataframe tbody tr th:only-of-type {\n",
       "        vertical-align: middle;\n",
       "    }\n",
       "\n",
       "    .dataframe tbody tr th {\n",
       "        vertical-align: top;\n",
       "    }\n",
       "\n",
       "    .dataframe thead th {\n",
       "        text-align: right;\n",
       "    }\n",
       "</style>\n",
       "<table border=\"1\" class=\"dataframe\">\n",
       "  <thead>\n",
       "    <tr style=\"text-align: right;\">\n",
       "      <th></th>\n",
       "      <th>id</th>\n",
       "      <th>Tweet</th>\n",
       "      <th>Label</th>\n",
       "      <th>Score</th>\n",
       "    </tr>\n",
       "  </thead>\n",
       "  <tbody>\n",
       "    <tr>\n",
       "      <th>0</th>\n",
       "      <td>10000</td>\n",
       "      <td>How the fu*k! Who the heck! moved my fridge!.....</td>\n",
       "      <td>anger</td>\n",
       "      <td>0.938</td>\n",
       "    </tr>\n",
       "    <tr>\n",
       "      <th>1</th>\n",
       "      <td>10001</td>\n",
       "      <td>So my Indian Uber driver just called someone t...</td>\n",
       "      <td>anger</td>\n",
       "      <td>0.896</td>\n",
       "    </tr>\n",
       "    <tr>\n",
       "      <th>2</th>\n",
       "      <td>10002</td>\n",
       "      <td>@DPD_UK I asked for my parcel to be delivered ...</td>\n",
       "      <td>anger</td>\n",
       "      <td>0.896</td>\n",
       "    </tr>\n",
       "  </tbody>\n",
       "</table>\n",
       "</div>"
      ],
      "text/plain": [
       "      id                                              Tweet  Label  Score\n",
       "0  10000  How the fu*k! Who the heck! moved my fridge!.....  anger  0.938\n",
       "1  10001  So my Indian Uber driver just called someone t...  anger  0.896\n",
       "2  10002  @DPD_UK I asked for my parcel to be delivered ...  anger  0.896"
      ]
     },
     "execution_count": 3,
     "metadata": {},
     "output_type": "execute_result"
    }
   ],
   "source": [
    "df = pd.concat([Angry, Fear, Joy, Sad], ignore_index=True)\n",
    "df.head(3)"
   ]
  },
  {
   "cell_type": "code",
   "execution_count": 4,
   "metadata": {
    "colab": {
     "base_uri": "https://localhost:8080/"
    },
    "id": "HNu2DTWCBQXJ",
    "outputId": "2b66d015-1289-4c86-bf75-d83f608fde11"
   },
   "outputs": [
    {
     "data": {
      "text/plain": [
       "True"
      ]
     },
     "execution_count": 4,
     "metadata": {},
     "output_type": "execute_result"
    }
   ],
   "source": [
    "len(Angry)+len(Fear)+len(Joy)+len(Sad) == len(df)"
   ]
  },
  {
   "cell_type": "code",
   "execution_count": 5,
   "metadata": {
    "id": "pna7UjApBT-w"
   },
   "outputs": [],
   "source": [
    "df['Label'] = df['Label'].map({'anger':1, 'fear':2, 'joy':3, 'sadness':4})"
   ]
  },
  {
   "cell_type": "markdown",
   "metadata": {},
   "source": [
    "### Text Cleaning"
   ]
  },
  {
   "cell_type": "code",
   "execution_count": 6,
   "metadata": {
    "id": "fD0cdF4LBWrh"
   },
   "outputs": [],
   "source": [
    "# removes pattern in the input text\n",
    "def remove_pattern(input_txt, pattern):\n",
    "    r = re.findall(pattern, input_txt)\n",
    "    for word in r:\n",
    "        input_txt = re.sub(word, \"\", input_txt)\n",
    "    return input_txt"
   ]
  },
  {
   "cell_type": "code",
   "execution_count": 7,
   "metadata": {
    "colab": {
     "base_uri": "https://localhost:8080/",
     "height": 206
    },
    "id": "aVbZIMlXgrMQ",
    "outputId": "389c5a42-8c21-42a0-a8a6-16be9758fe27"
   },
   "outputs": [
    {
     "data": {
      "text/html": [
       "<div>\n",
       "<style scoped>\n",
       "    .dataframe tbody tr th:only-of-type {\n",
       "        vertical-align: middle;\n",
       "    }\n",
       "\n",
       "    .dataframe tbody tr th {\n",
       "        vertical-align: top;\n",
       "    }\n",
       "\n",
       "    .dataframe thead th {\n",
       "        text-align: right;\n",
       "    }\n",
       "</style>\n",
       "<table border=\"1\" class=\"dataframe\">\n",
       "  <thead>\n",
       "    <tr style=\"text-align: right;\">\n",
       "      <th></th>\n",
       "      <th>id</th>\n",
       "      <th>Tweet</th>\n",
       "      <th>Label</th>\n",
       "      <th>Score</th>\n",
       "    </tr>\n",
       "  </thead>\n",
       "  <tbody>\n",
       "    <tr>\n",
       "      <th>0</th>\n",
       "      <td>10000</td>\n",
       "      <td>heck move fridg should knock landlord angri</td>\n",
       "      <td>1</td>\n",
       "      <td>0.938</td>\n",
       "    </tr>\n",
       "    <tr>\n",
       "      <th>1</th>\n",
       "      <td>10001</td>\n",
       "      <td>indian uber driver just someon word wasn move ...</td>\n",
       "      <td>1</td>\n",
       "      <td>0.896</td>\n",
       "    </tr>\n",
       "    <tr>\n",
       "      <th>2</th>\n",
       "      <td>10002</td>\n",
       "      <td>ask parcel deliv pick store fume rcustomerservic</td>\n",
       "      <td>1</td>\n",
       "      <td>0.896</td>\n",
       "    </tr>\n",
       "    <tr>\n",
       "      <th>3</th>\n",
       "      <td>10003</td>\n",
       "      <td>whichev wipe fire alarm davi sound angri upset...</td>\n",
       "      <td>1</td>\n",
       "      <td>0.896</td>\n",
       "    </tr>\n",
       "    <tr>\n",
       "      <th>4</th>\n",
       "      <td>10004</td>\n",
       "      <td>join btcare they phone down talk over rude tak...</td>\n",
       "      <td>1</td>\n",
       "      <td>0.896</td>\n",
       "    </tr>\n",
       "  </tbody>\n",
       "</table>\n",
       "</div>"
      ],
      "text/plain": [
       "      id                                              Tweet  Label  Score\n",
       "0  10000        heck move fridg should knock landlord angri      1  0.938\n",
       "1  10001  indian uber driver just someon word wasn move ...      1  0.896\n",
       "2  10002   ask parcel deliv pick store fume rcustomerservic      1  0.896\n",
       "3  10003  whichev wipe fire alarm davi sound angri upset...      1  0.896\n",
       "4  10004  join btcare they phone down talk over rude tak...      1  0.896"
      ]
     },
     "execution_count": 7,
     "metadata": {},
     "output_type": "execute_result"
    }
   ],
   "source": [
    "df['Tweet'] = df['Tweet'].str.replace(\"[^a-zA-Z#]\", \" \")\n",
    "df['Tweet'] = df['Tweet'].str.replace('((www\\.[^\\s]+)|(https?://[^\\s]+))', \" \")\n",
    "df['Tweet'] = df['Tweet'].str.replace(r\"\\d+\", \" \")\n",
    "df['Tweet'] = df['Tweet'].str.replace('&quot;', \" \")\n",
    "df['Tweet'] = df['Tweet'].str.replace(r\"\\b[a-zA-Z]\\b\", \" \")\n",
    "df['Tweet'] = df['Tweet'].str.replace(\"[^a-zA-Z#]\", \" \")\n",
    "df['Tweet'] = df['Tweet'].str.replace(r\"[^\\w\\s]\", \" \")\n",
    "df['Tweet'] = df['Tweet'].str.replace(r'(.)\\1+', \" \")\n",
    "df['Tweet'] = df['Tweet'].str.replace(r\"\\s+\", \" \")\n",
    "\n",
    "df['Tweet'] = df['Tweet'].apply(lambda x: \" \".join([w for w in x.split() if len(w)>3]))\n",
    "\n",
    "# stem the words\n",
    "from nltk.stem.porter import PorterStemmer\n",
    "stemmer = PorterStemmer()\n",
    "tokenized_tweet = df['Tweet'].apply(lambda x: x.split())\n",
    "tokenized_tweet = tokenized_tweet.apply(lambda sentence: [stemmer.stem(word) for word in sentence])\n",
    "# combine words into single sentence\n",
    "for i in range(len(tokenized_tweet)):\n",
    "    tokenized_tweet[i] = \" \".join(tokenized_tweet[i])\n",
    "df['Tweet'] = tokenized_tweet\n",
    "\n",
    "df.head()"
   ]
  },
  {
   "cell_type": "code",
   "execution_count": 8,
   "metadata": {
    "id": "o0qrGoAnBejm"
   },
   "outputs": [],
   "source": [
    "# Splitting the day into X and y\n",
    "X = df['Tweet']\n",
    "y = df['Label']"
   ]
  },
  {
   "cell_type": "code",
   "execution_count": 9,
   "metadata": {
    "colab": {
     "base_uri": "https://localhost:8080/"
    },
    "id": "MbjrGaoyLy92",
    "outputId": "14d2b7d9-ae4e-421d-e604-e6764bf8b77b"
   },
   "outputs": [
    {
     "name": "stdout",
     "output_type": "stream",
     "text": [
      "[[1319, 1320, 301, 177, 1769, 316, 72, 788, 302, 302, 789]]\n"
     ]
    }
   ],
   "source": [
    "tokenizer = tf.keras.preprocessing.text.Tokenizer(num_words=10000, oov_token='<OOV>')\n",
    "tokenizer.fit_on_texts(X)\n",
    "print(tokenizer.texts_to_sequences([X[3]]))"
   ]
  },
  {
   "cell_type": "code",
   "execution_count": 10,
   "metadata": {
    "id": "R9b55vFYM4lf"
   },
   "outputs": [],
   "source": [
    "def get_sequences(tokenizer, tweets):\n",
    "    sequences = tokenizer.texts_to_sequences(tweets)\n",
    "    padded_sequences = pad_sequences(sequences, truncating='post', maxlen=50, padding='post')\n",
    "    return padded_sequences"
   ]
  },
  {
   "cell_type": "code",
   "execution_count": 11,
   "metadata": {
    "colab": {
     "base_uri": "https://localhost:8080/"
    },
    "id": "wIkO8TZ4NCZB",
    "outputId": "af01b9ec-9866-45d5-83e5-21f93a662136"
   },
   "outputs": [
    {
     "data": {
      "text/plain": [
       "array([1764,  208, 1765,   58,  903, 1766,   72,    0,    0,    0,    0,\n",
       "          0,    0,    0,    0,    0,    0,    0,    0,    0,    0,    0,\n",
       "          0,    0,    0,    0,    0,    0,    0,    0,    0,    0,    0,\n",
       "          0,    0,    0,    0,    0,    0,    0,    0,    0,    0,    0,\n",
       "          0,    0,    0,    0,    0,    0], dtype=int32)"
      ]
     },
     "execution_count": 11,
     "metadata": {},
     "output_type": "execute_result"
    }
   ],
   "source": [
    "padded_train_sequences = get_sequences(tokenizer, X)\n",
    "padded_train_sequences[0]"
   ]
  },
  {
   "cell_type": "code",
   "execution_count": 12,
   "metadata": {
    "colab": {
     "base_uri": "https://localhost:8080/"
    },
    "id": "J6uBy4vyND8X",
    "outputId": "cfba42c7-006a-4019-f0c7-bdb1855abe6a"
   },
   "outputs": [
    {
     "data": {
      "text/plain": [
       "(3613, 50)"
      ]
     },
     "execution_count": 12,
     "metadata": {},
     "output_type": "execute_result"
    }
   ],
   "source": [
    "padded_train_sequences.shape"
   ]
  },
  {
   "cell_type": "code",
   "execution_count": 13,
   "metadata": {
    "id": "pSeAKgscKK8L"
   },
   "outputs": [],
   "source": [
    "from sklearn.model_selection import train_test_split, cross_val_score\n",
    "\n",
    "X_train, X_test, y_train, y_test = train_test_split(padded_train_sequences, y, test_size=0.15, \n",
    "                                                    random_state=42, shuffle=True, stratify=y)"
   ]
  },
  {
   "cell_type": "code",
   "execution_count": 14,
   "metadata": {
    "id": "OYB9Gx21eL8S"
   },
   "outputs": [],
   "source": [
    "def show_history(h):\n",
    "    epochs_trained = len(h.history['loss'])\n",
    "    plt.figure(figsize=(16, 6))\n",
    "\n",
    "    plt.subplot(1, 2, 1)\n",
    "    plt.plot(range(0, epochs_trained), h.history.get('accuracy'), label='Training')\n",
    "    plt.plot(range(0, epochs_trained), h.history.get('val_accuracy'), label='Validation')\n",
    "    plt.ylim([0., 1.])\n",
    "    plt.xlabel('Epochs')\n",
    "    plt.ylabel('Accuracy')\n",
    "    plt.legend()\n",
    "\n",
    "    plt.subplot(1, 2, 2)\n",
    "    plt.plot(range(0, epochs_trained), h.history.get('loss'), label='Training')\n",
    "    plt.plot(range(0, epochs_trained), h.history.get('val_loss'), label='Validation')\n",
    "    plt.xlabel('Epochs')\n",
    "    plt.ylabel('Loss')\n",
    "    plt.legend()\n",
    "    plt.show()"
   ]
  },
  {
   "cell_type": "markdown",
   "metadata": {},
   "source": [
    "### Model Training + Evaluation"
   ]
  },
  {
   "cell_type": "code",
   "execution_count": 25,
   "metadata": {
    "colab": {
     "base_uri": "https://localhost:8080/"
    },
    "id": "RjsTMi0qQbxc",
    "outputId": "e3bf4bca-2db1-44f9-8e6c-b542ba43dc2a"
   },
   "outputs": [
    {
     "name": "stdout",
     "output_type": "stream",
     "text": [
      "Model: \"sequential_3\"\n",
      "_________________________________________________________________\n",
      "Layer (type)                 Output Shape              Param #   \n",
      "=================================================================\n",
      "embedding_3 (Embedding)      (None, 50, 512)           5120000   \n",
      "_________________________________________________________________\n",
      "bidirectional_6 (Bidirection (None, 50, 40)            85280     \n",
      "_________________________________________________________________\n",
      "bidirectional_7 (Bidirection (None, 40)                9760      \n",
      "_________________________________________________________________\n",
      "dense_3 (Dense)              (None, 6)                 246       \n",
      "=================================================================\n",
      "Total params: 5,215,286\n",
      "Trainable params: 5,215,286\n",
      "Non-trainable params: 0\n",
      "_________________________________________________________________\n"
     ]
    }
   ],
   "source": [
    "model2 = tf.keras.models.Sequential([\n",
    "    tf.keras.layers.Embedding(10000, 512, input_length=50),\n",
    "    tf.keras.layers.Bidirectional(tf.keras.layers.LSTM(20, return_sequences=True)),\n",
    "    tf.keras.layers.Bidirectional(tf.keras.layers.LSTM(20)),\n",
    "    tf.keras.layers.Dense(6, activation='softmax')\n",
    "])\n",
    "model2.summary()"
   ]
  },
  {
   "cell_type": "code",
   "execution_count": 26,
   "metadata": {
    "id": "Ugf_4hwSaxgP"
   },
   "outputs": [],
   "source": [
    "# Compile model\n",
    "model2.compile(loss=\"sparse_categorical_crossentropy\",\n",
    "                optimizer=tf.keras.optimizers.Adam(),\n",
    "                metrics=[\"accuracy\"])"
   ]
  },
  {
   "cell_type": "code",
   "execution_count": 27,
   "metadata": {
    "colab": {
     "base_uri": "https://localhost:8080/"
    },
    "id": "2irn87Y4b5Gl",
    "outputId": "cb6f5a15-870f-4dee-bfd5-c9151f47bc2e"
   },
   "outputs": [
    {
     "name": "stdout",
     "output_type": "stream",
     "text": [
      "Epoch 1/50\n",
      "96/96 [==============================] - 13s 72ms/step - loss: 1.3998 - accuracy: 0.3722 - val_loss: 1.1094 - val_accuracy: 0.5387\n",
      "Epoch 2/50\n",
      "96/96 [==============================] - 5s 55ms/step - loss: 0.6514 - accuracy: 0.7906 - val_loss: 0.7044 - val_accuracy: 0.7583\n",
      "Epoch 3/50\n",
      "96/96 [==============================] - 5s 55ms/step - loss: 0.2289 - accuracy: 0.9365 - val_loss: 0.7117 - val_accuracy: 0.7638\n",
      "Epoch 4/50\n",
      "96/96 [==============================] - 5s 54ms/step - loss: 0.1218 - accuracy: 0.9678 - val_loss: 0.7582 - val_accuracy: 0.7786\n",
      "Epoch 5/50\n",
      "96/96 [==============================] - 5s 55ms/step - loss: 0.0839 - accuracy: 0.9782 - val_loss: 0.8445 - val_accuracy: 0.7546\n",
      "Epoch 6/50\n",
      "96/96 [==============================] - 5s 54ms/step - loss: 0.0668 - accuracy: 0.9798 - val_loss: 0.9071 - val_accuracy: 0.7472\n"
     ]
    }
   ],
   "source": [
    "history = model2.fit(\n",
    "    X_train, y_train,\n",
    "    validation_data=(X_test, y_test),\n",
    "    epochs=50,\n",
    "    callbacks=[\n",
    "        tf.keras.callbacks.EarlyStopping(monitor='val_accuracy', patience=2)\n",
    "    ]\n",
    ")"
   ]
  },
  {
   "cell_type": "code",
   "execution_count": 28,
   "metadata": {
    "colab": {
     "base_uri": "https://localhost:8080/",
     "height": 392
    },
    "id": "OG6oVwZgdSkC",
    "outputId": "2858982b-e5fe-42a3-fdc4-b0ae0b46a472"
   },
   "outputs": [
    {
     "data": {
      "image/png": "[encoded data removed]",
      "text/plain": [
       "<Figure size 1152x432 with 2 Axes>"
      ]
     },
     "metadata": {
      "needs_background": "light"
     },
     "output_type": "display_data"
    }
   ],
   "source": [
    "show_history(history)"
   ]
  },
  {
   "cell_type": "code",
   "execution_count": 18,
   "metadata": {
    "id": "p4d5ljlTd9zH"
   },
   "outputs": [],
   "source": []
  }
 ],
 "metadata": {
  "accelerator": "GPU",
  "colab": {
   "collapsed_sections": [],
   "name": "Mood analysis.ipynb",
   "provenance": []
  },
  "kernelspec": {
   "display_name": "Python 3",
   "language": "python",
   "name": "python3"
  },
  "language_info": {
   "codemirror_mode": {
    "name": "ipython",
    "version": 3
   },
   "file_extension": ".py",
   "mimetype": "text/x-python",
   "name": "python",
   "nbconvert_exporter": "python",
   "pygments_lexer": "ipython3",
   "version": "3.6.5"
  }
 },
 "nbformat": 4,
 "nbformat_minor": 1
}
